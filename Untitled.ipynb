{
 "cells": [
  {
   "cell_type": "code",
   "execution_count": 1,
   "metadata": {
    "ExecuteTime": {
     "end_time": "2017-12-18T15:13:23.704000Z",
     "start_time": "2017-12-18T15:13:20.959870Z"
    }
   },
   "outputs": [
    {
     "name": "stderr",
     "output_type": "stream",
     "text": [
      "/usr/local/lib/python3.6/site-packages/requests/__init__.py:80: RequestsDependencyWarning: urllib3 (1.22) or chardet (2.3.0) doesn't match a supported version!\n",
      "  RequestsDependencyWarning)\n"
     ]
    }
   ],
   "source": [
    "import pickle\n",
    "import pandas as pd\n",
    "import helpers.GenerateVectors as GV\n",
    "import ast\n",
    "from nltk.corpus import stopwords\n",
    "import numpy as np\n",
    "import h5py"
   ]
  },
  {
   "cell_type": "code",
   "execution_count": 2,
   "metadata": {
    "ExecuteTime": {
     "end_time": "2017-12-18T15:13:28.023956Z",
     "start_time": "2017-12-18T15:13:28.009281Z"
    }
   },
   "outputs": [],
   "source": [
    "EMBEDDING_DIM = 100"
   ]
  },
  {
   "cell_type": "code",
   "execution_count": 3,
   "metadata": {
    "ExecuteTime": {
     "end_time": "2017-12-18T15:13:40.733312Z",
     "start_time": "2017-12-18T15:13:38.919456Z"
    }
   },
   "outputs": [],
   "source": [
    "idx_to_filename = pickle.load(open(\"data/models/idx_to_filename.pkl\", 'rb'))\n",
    "idx_to_metadata = pickle.load(open(\"data/models/idx_to_metadata.pkl\", 'rb'))\n",
    "allvocab_to_idx = pickle.load(open(\"data/models/allvocab_to_idx.pkl\", 'rb'))\n",
    "allvocab = allvocab_to_idx.keys()\n",
    "wvvocab_to_idx = pickle.load(open(\"data/models/wvvocab_to_idx.pkl\", 'rb'))\n",
    "wvvocab = wvvocab_to_idx.keys()\n",
    "counts = pickle.load(open(\"data/models/word_counts.pkl\", 'rb'))\n",
    "embedding_matrix = pickle.load(open(\"data/models/embedding_matrix.pkl\", 'rb'))\n",
    "sentence_vectors = pickle.load(open(\"data/models/sentence_vectors.pkl\", 'rb'))\n",
    "sentence_words = pickle.load(open(\"data/models/sentence_words.pkl\", 'rb'))\n",
    "sentence_words_idx = pickle.load(\n",
    "    open(\"data/models/sentence_words_idx.pkl\", 'rb'))\n",
    "english_words = pickle.load(open(\"data/models/english_words.pkl\", 'rb')).keys()\n",
    "french_words = pickle.load(open(\"data/models/french_words.pkl\", 'rb')).keys()"
   ]
  },
  {
   "cell_type": "code",
   "execution_count": 22,
   "metadata": {
    "ExecuteTime": {
     "end_time": "2017-12-18T15:54:43.876129Z",
     "start_time": "2017-12-18T15:54:43.870715Z"
    }
   },
   "outputs": [
    {
     "data": {
      "text/plain": [
       "'texts-pdftotext-fed0024913a'"
      ]
     },
     "execution_count": 22,
     "metadata": {},
     "output_type": "execute_result"
    }
   ],
   "source": [
    "idx_to_filename[1]"
   ]
  },
  {
   "cell_type": "code",
   "execution_count": 4,
   "metadata": {
    "ExecuteTime": {
     "end_time": "2017-12-18T15:13:45.266399Z",
     "start_time": "2017-12-18T15:13:45.259753Z"
    }
   },
   "outputs": [],
   "source": [
    "EMBEDDING_DIM = 100\n",
    "NUM_ANSWERS = 10\n",
    "TEXT_DATA_DIR = 'data/texts-pkls/'"
   ]
  },
  {
   "cell_type": "markdown",
   "metadata": {},
   "source": [
    "Functions called"
   ]
  },
  {
   "cell_type": "code",
   "execution_count": 6,
   "metadata": {
    "ExecuteTime": {
     "end_time": "2017-12-18T15:14:40.818210Z",
     "start_time": "2017-12-18T15:14:40.383711Z"
    },
    "code_folding": [
     1,
     10,
     21,
     69
    ]
   },
   "outputs": [],
   "source": [
    "def query_to_vector(text):\n",
    "    global wvvocab_to_idx, wvvocab\n",
    "    global counts, embedding_matrix\n",
    "\n",
    "    sentence_idx = [wvvocab_to_idx[word]\n",
    "                    for word in GV.cleanpassage(text).split() if word in wvvocab]\n",
    "    return(GV.sentence_to_vec_idx([sentence_idx], counts, embedding_matrix, from_persisted=True))\n",
    "\n",
    "def distangle(x,y):\n",
    "    a = np.empty((len(x),len(y)))\n",
    "    for i,xi in enumerate(x):\n",
    "        for j,yj in enumerate(y):\n",
    "            if np.linalg.norm(xi) == 0 or np.linalg.norm(yj) == 0:\n",
    "                a[i,j] = -1\n",
    "            else:\n",
    "                a[i,j] = np.dot(xi,yj)\n",
    "    return(-a)\n",
    "\n",
    "def retrieve_closest_passages(query, from_pdfs=None, idx_true=None):\n",
    "    \"retourne la liste des num_passages les plus proches de la query parmis les sentence_vectors.\"\n",
    "    # from_pdf: liste de pdf. Seulement parmis les vectors du code pdf fourni (format idx_to_filename).\n",
    "    # idx_true: Passage recherché (format int idx de la liste pages_list), si fourni, retourne aussi la position dans les queries de la vraie réponse dans la variable position_true.\n",
    "    global sentence_vectors, sentence_words, sentence_words_idx\n",
    "    global idx_to_filename,idx_to_metadata, allvocab_to_idx, allvocab, wvvocab_to_idx, wvvocab\n",
    "    global counts, embedding_matrix\n",
    "    global position_true\n",
    "\n",
    "    query_idx = [allvocab_to_idx[word]\n",
    "                 for word in GV.cleanpassage(query).split() if word in allvocab]\n",
    "\n",
    "    indexes = []\n",
    "    filtered_vectors = []\n",
    "\n",
    "\n",
    "    if from_pdfs is not None: pdf_list = set(from_pdfs)\n",
    "    else: pdf_list = set(idx_to_filename.values())\n",
    "\n",
    "\n",
    "    for i, v in enumerate(sentence_vectors):\n",
    "        if idx_to_filename[int(idx_to_metadata[i].split(\"-\")[0])] in pdf_list:\n",
    "            grepsome = 0\n",
    "            for word_idx in query_idx:\n",
    "                if word_idx in sentence_words[sentence_words_idx[i]:sentence_words_idx[i + 1]]:\n",
    "                    grepsome += 1\n",
    "            filtered_vectors.append(v)\n",
    "            indexes.append([i, len(indexes), grepsome])\n",
    "\n",
    "\n",
    "    if len(filtered_vectors) == 0:\n",
    "        print('ERREUR: pdf(s) introuvable:', ' '.join(from_pdfs))\n",
    "        return([])\n",
    "\n",
    "    vector = query_to_vector(query)\n",
    "    distances = distangle([vector], filtered_vectors)[0]\n",
    "\n",
    "    closest_indexes = sorted(indexes, key=lambda k: (-k[2], distances[k[1]]))\n",
    "\n",
    "    answers = list(map(list, zip(*closest_indexes)))[0]\n",
    "    if idx_true is not None:\n",
    "        position_true = list(\n",
    "            map(list, zip(*closest_indexes)))[0].index(idx_true) + 1\n",
    "\n",
    "    return(answers)\n",
    "\n",
    "def get_closest_passages(answers, num_answers=NUM_ANSWERS):\n",
    "\n",
    "    #answer = {\n",
    "    #     \"raw_passage\": raw_passages[closest_indexes[index]],\n",
    "    #     \"clean_passage\": clean_passages[closest_indexes[index]],\n",
    "    #     \"metadata\": idx_to_metadata[closest_indexes[index]],\n",
    "    #     \"pdf_url\": url,\n",
    "    # }\n",
    "\n",
    "    global idx_to_metadata, idx_to_filename\n",
    "    global english_words\n",
    "    global french_words\n",
    "\n",
    "    if num_answers == None: num_answers = len(answers)\n",
    "\n",
    "    metalist = [(int(idx_to_metadata[idx].split('-')[0]),\n",
    "                 int(idx_to_metadata[idx].split('-')[1])) for idx in answers][:num_answers]\n",
    "    pdflist = list(set(list(map(list, zip(*metalist)))[0]))\n",
    "\n",
    "    textCA = []\n",
    "    for pdf in pdflist:\n",
    "        textCA.append(GV.filterCA(\n",
    "            TEXT_DATA_DIR+idx_to_filename[pdf] + '.pkl', english_words, french_words))\n",
    "\n",
    "    results = []\n",
    "    for meta in metalist:\n",
    "        results.append([idx_to_filename[meta[0]] + '-%i' % meta[1],\n",
    "                        '\\n'.join(textCA[pdflist.index(meta[0])][meta[1]])])\n",
    "\n",
    "\n",
    "    urls = []\n",
    "    for result in results:\n",
    "\n",
    "        #THIS NEEDS TO BE FIXED\n",
    "\n",
    "        filename = result[0].replace(\"texts-pdftotext-fed\",\"texts-pkls\").split(\"texts-pkls\")[1].split(\"-\")[0]\n",
    "        url = \"http://negotech.labour.gc.ca/{}/{}/{}/{}.pdf\"\n",
    "        if filename[-1] == 'a':\n",
    "            url = url.format(\"eng\", \"agreements\",filename[:2], filename)\n",
    "        else:\n",
    "            url = url.format(\"fra\", \"conventions\",filename[:2], filename)\n",
    "\n",
    "        urls.append(url)\n",
    "\n",
    "    answer = [{\"metadata\":result[0].replace(\"texts-pdftotext-fed\",\"texts-pkls\").split(\"texts-pkls\")[1], \"raw_passage\":result[1],\"pdf_url\":urls[index]} for index,result in enumerate(results)]\n",
    "    return(answer)\n"
   ]
  },
  {
   "cell_type": "code",
   "execution_count": 7,
   "metadata": {
    "ExecuteTime": {
     "end_time": "2017-12-18T15:14:47.632305Z",
     "start_time": "2017-12-18T15:14:47.626710Z"
    }
   },
   "outputs": [],
   "source": [
    "query = \"maternity leave\""
   ]
  },
  {
   "cell_type": "code",
   "execution_count": 8,
   "metadata": {
    "ExecuteTime": {
     "end_time": "2017-12-18T15:15:01.607194Z",
     "start_time": "2017-12-18T15:14:58.083537Z"
    }
   },
   "outputs": [],
   "source": [
    "answer_indexes = retrieve_closest_passages(query)"
   ]
  },
  {
   "cell_type": "code",
   "execution_count": 24,
   "metadata": {
    "ExecuteTime": {
     "end_time": "2017-12-18T15:55:04.150385Z",
     "start_time": "2017-12-18T15:55:04.051067Z"
    }
   },
   "outputs": [],
   "source": [
    "answer_indexes = retrieve_closest_passages(query,from_pdfs=[\"texts-pdftotext-fed0024913a\"])"
   ]
  },
  {
   "cell_type": "code",
   "execution_count": 25,
   "metadata": {
    "ExecuteTime": {
     "end_time": "2017-12-18T15:55:05.388697Z",
     "start_time": "2017-12-18T15:55:05.367180Z"
    }
   },
   "outputs": [],
   "source": [
    "answers = get_closest_passages(answer_indexes[:10])"
   ]
  },
  {
   "cell_type": "code",
   "execution_count": 26,
   "metadata": {
    "ExecuteTime": {
     "end_time": "2017-12-18T15:55:17.152867Z",
     "start_time": "2017-12-18T15:55:17.144347Z"
    }
   },
   "outputs": [
    {
     "data": {
      "text/plain": [
       "[{'metadata': '0024913a-6',\n",
       "  'pdf_url': 'http://negotech.labour.gc.ca/eng/agreements/00/0024913a.pdf',\n",
       "  'raw_passage': '8.04 (a) on approved vacation (b) on approved leave of absence, including leave on Union business; ARTICLE 9 - (c) absent through sickness or accident provided that the employee 9.02 has a Doctor’s certificate to that effect, and (d) taking bereavement leave for death in the immediate family (immediate family shall mean: spouse, father, mother, son and daughter).\\nAn employee shall not be paid for a statutory holiday named in Section 8.02 if he is absent from work on his last regularly scheduled shift before, or his first regularly scheduled shift after such holiday, or if he has been assigned or scheduled to work and does not work on such holiday.\\nThe employee shall be paid for statutory holidays if the qualifications noted in Article 8.02 and further provided that the employee has worked at least one (1) shift in the twenty-one (21) days prior to the holiday, and that the employee has worked at least one shift in the twenty-one (21) day period following the holiday.\\nAn employee who qualifies for both the statutory holiday pay (expressed in Sections 8.02 and 8.03) and for pay for performing work on a statutory holiday, shall be entitled to a total of two and one half (21/2) times his applicable rate of pay for eight (8) hours of the day.\\nVIZ: Eight (8) hours straight time pay for qualified statutory holiday plus one and one-half (11/2) times his applicable rate for all hours actually worked on the statutory holiday.\\nIf an employee does not meet the qualifications in Sections 8.02 and 8.03, but does work the statutory holiday, he shall then be paid one and one-half (11/2) times his hourly rate of pay only.\\nGRIEVANCE AND ARBITRATION PROCEDURE\\nComplaint Employees may discuss any complaint with shift bosses or foremen so that it may be settled as quickly as possible.\\nHowever, should any difference arise between the Company and the Union or any employee or employees concerning the interpretation or alleged violation of this Agreement, the parties shall endeavour to settle such differences without undue delay in the following manner: Grievance - Stage One The employee concerned, in person and if he desires, with his shop steward in attendance, shall try to settle the difference with his immediate boss.\\nIf the employee has reasonable access to a steward, the grievance shall be taken up with the immediate boss, not more than five (5) days after it has arisen, but if there is no steward reasonably available to the Page 6 employee, then the grievance shall be raised at the first reasonable opportunity.'},\n",
       " {'metadata': '0024913a-12',\n",
       "  'pdf_url': 'http://negotech.labour.gc.ca/eng/agreements/00/0024913a.pdf',\n",
       "  'raw_passage': 'ARTICLE 18 - Page 11\\nTRANSPORTATION a) The Company has the right to deduct transportation expenses and travel time from an employee’s payroll if that employee does not fulfill his contract duration.\\nSee Schedule “A” attached hereto and forming part of this agreement, for clarification.\\nb) Subject to the provisions of Article 18(a) above, employees shall be paid traveling time at their regular rates for time spent traveling from Yellowknife to the job site and return to Yellowknife.\\nNo travel time shall be paid for travel to Yellowknife from home domicile and return from Yellowknife to home domicile.\\nc) If an employee is required to drive or ride in a Company vehicle in order to travel from home domicile to a job site or return from a job site to home domicile, he shall be paid his regular rate for time so spent.\\nd) Where an employee is required to travel from an accommodation location or a designated marshalling point to the drill site and return, he shall be paid at regular rates when the time so spent exceeds one (1) hour per shift.\\ne) Where an employee incurs approved out-of-pocket expenses while traveling to and from Yellowknife or a designated marshalling point, the Company will reimburse the employee for such expenses provided receipts are submitted in a timely manner and in a form satisfactory to the Company.\\nCompassionate Leave or Sick Leave Transportation, travel time and expenses shall be paid in accordance with Schedule “A”, attached hereto, and forming part of this agreement.\\nValid compassionate grounds are defined as follows: a) death in the immediate family.\\nImmediate family to include children, parents, siblings, parents-in-law, and spouse designated as such upon hiring.\\nb) birth of a child to the spouse of the employee.\\nThe employee shall, upon request, furnish adequate proof (Birth Certificate, Death Certificate, Doctor’s report, etc.) when making application under Article 18.'},\n",
       " {'metadata': '0024913a-9',\n",
       "  'pdf_url': 'http://negotech.labour.gc.ca/eng/agreements/00/0024913a.pdf',\n",
       "  'raw_passage': 'Page 8\\nARTICLE 11 - LEAVE OF ABSENCE FOR UNION BUSINESS\\nAny employee selected as a delegate or representative of the Union, 11.02 necessitating leave of absence, upon proper application to the Company, 11.03 shall be granted such leave of absence without pay, provided it does not 11.04 exceed a period of one (1) year.\\nTime spent as a delegate or representative of the Union shall not in any way jeopardize his seniority, but shall not be considered as time worked for the purpose of determining vacation.\\nThe Company shall not be required to grant the privilege, under this Article, to more than one (1) person at the same time.\\nSection 11.02 and 11.03 shall not apply to delegates actually attending a labour convention, labour arbitration’s, labour contract negotiations or grievance matters set forth in this agreement.\\nNotwithstanding anything contained in this Article to the contrary, the Company shall not be obliged to grant leave of absence to more than one (1) employee during any calendar year for the purpose of attending a labour convention.\\nARTICLE 12 - WAGES\\nThe scale of wages in effect during the life of this Agreement for Underground and Surface Drillers shall be as follows: Effective the signing date of this Agreement Underground & Surface Runner Foreman - $29.50 per hour Senior Driller - $29.00 per hour Junior Driller - $26.00 per hour Helper (shop) - $21.00 per hour A runner foreman shall receive a minimum of one (1) hours pay at his applicable rate (straight time) over and above his shift hours.\\nA Senior Driller is defined as an employee with certain qualities, competencies and abilities which shall be considered by the Company when assigning the higher wage rate.\\nThe Company shall have the final say in determining Senior Driller status and has the right to demote a\\n“Senior Driller” to “Junior Driller” for cause or as otherwise subject to Article 19.01.'},\n",
       " {'metadata': '0024913a-1',\n",
       "  'pdf_url': 'http://negotech.labour.gc.ca/eng/agreements/00/0024913a.pdf',\n",
       "  'raw_passage': 'Article 1 INDEX Page Article 2 1\\nArticle 3 Definition and Recognition 1\\nArticle 4 Term of Agreement 2\\nArticle 5 Management 2\\nArticle 6 No Discrimination 2\\nArticle 7 Shifts and Working Hours 3\\nArticle 8 Overtime 4\\nArticle 9 Safety Devices 4\\nArticle 10 Statutory Holidays 5\\nArticle 11 Grievance & Arbitration Procedure 7\\nArticle 12 Group Insurance Plan and Health Coverage 8\\nArticle 13 Leave of Absence for Union Business 8\\nArticle 14 Wages 9\\nArticle 15 Annual Vacation 9\\nArticle 16 Bulletin Boards 10\\nArticle 17 Union Security 10\\nArticle 18 Union Membership 10\\nArticle 19 Town site Northern Allowance 11\\nTransportation 12\\nPromotions, Transfers, Lay-Offs & Rehiring Page 1'},\n",
       " {'metadata': '0024913a-10',\n",
       "  'pdf_url': 'http://negotech.labour.gc.ca/eng/agreements/00/0024913a.pdf',\n",
       "  'raw_passage': 'Page 9\\nSuch determination and selection of an employee being moved to “Senior Driller” status will be done by the Company in a manner which is fair, equitable and not arbitrary, subject to Article 19.01.\\nShould a dispute arise over the selection or placement of an employee to\\n“Senior Driller” the Company and Union agree to discuss the rationale of such selection or placement.\\nThe Union reserves the right to file a grievance on any matter pertaining to the selection of an employee for “Senior Driller”.\\nARTICLE 13 - ANNUAL VACATION\\n13.02 The vacation year will be from January 1st through December 31st of each year, inclusive.\\nEligibility for vacation time off and for pay will be 13.03 determined by the employee’s continuous service with the Company and 13.04 his anniversary (hire) date.\\nAny employee on the payroll during the current vacation year, and who has the length of continuous service specified in the table below, shall be entitled to the corresponding vacation with pay: Up to 12 months service 1 week - 5%\\n12 months but less than 18 months service 2 weeks - 6%\\n18 months but less than 24 months service 3 weeks - 7%\\n24 months to 10 years service 4 weeks - 8%\\n10 years & over service 5 weeks - 10%\\n20 years & over service 6 weeks - 12%\\nVacation pay will be calculated up to the day he leaves on vacation, and said pay will be based on total earnings.\\nVacation pay earned but not paid at the end of the vacation year will be paid to the employee at the end of the vacation year (December).\\nThe Company will be the final judge of vacation time, but vacations will be granted as closely as practicable to the time requested by the employee.\\nWhen requested by the employee, in writing and when practicable, one (1) week extra vacation may be granted without pay, provided it is taken along with his regular approved vacation.\\nVacations or the non-regular vacations and the one (1) week extra vacation are not accumulative.\\nARTICLE 14 - BULLETIN BOARDS\\nAt the request of the Union, the Company will provide a bulletin board in the Company office at Yellowknife for the posting of notices of Union meetings, social affairs and other Union notices of a non-controversial nature.'},\n",
       " {'metadata': '0024913a-4',\n",
       "  'pdf_url': 'http://negotech.labour.gc.ca/eng/agreements/00/0024913a.pdf',\n",
       "  'raw_passage': '5.03 Page 3\\nAlso, an employee who commences work and is laid off before ARTICLE 6 - completing four (4) hour’s work shall be paid a minimum of four (4) hours 6.01 pay at his basic hourly rate.\\nTemporary Change of Occupation An employee shall not refuse to perform work which is outside his classification, but for any such work, he shall be paid a higher rate of pay if the work he performs is of a higher classification than his normal work and shall not, in any event, be paid a lower hourly rate than his standard classification.\\nShift Differential A premium of fifty ($0.50) cents per hour shall be paid to all employees who are working a shift other than the regular day shift.\\nFor the purpose of applying this premium rate, the expression “regular day shift” shall have the meaning attributed to it in accordance with the Company’s present practice.\\nThe Company will pay the above mentioned shift premium as a separate allowance based on the hours worked for those shifts other then the regular day shift.\\nOVERTIME\\nIn all underground operations, all work performed in excess of eight (8) hours in any single twenty-four (24) hour period or forty (40) hours in any one week shall be paid for at the rate of one and one-half (11/2) times the basic rate.\\nIn all surface operations, all work performed in excess of eight (8) hours in any one day or forty (40) hours in any one week shall be paid for at the rate of one and one-half (11/2) times the basic rate (except when an employee works over eight (8) hours in any twenty-four (24) hour period due to regular change of shifts).\\n(a) One and one-half (11/2) times the basic rate will be paid for all work performed on a Saturday or Sunday regardless of the hours worked or days worked previous to Saturday or Sunday, if such days are scheduled overtime days.\\nIn the case of an employee kept underground after the expiration of the regular shift due to causes over which he has no control, such time shall be considered as hours worked (straight time) if the period exceeds thirty (30) minutes provided that such time shall not be considered as time worked if the cause is beyond the control of the Company.'},\n",
       " {'metadata': '0024913a-13',\n",
       "  'pdf_url': 'http://negotech.labour.gc.ca/eng/agreements/00/0024913a.pdf',\n",
       "  'raw_passage': 'ARTICLE 19 - Page 12\\nPROMOTIONS, TRANSFERS, LAY-OFFS AND REHIRING\\n19.03 The Company recognizes the principle of seniority in promotions, 19.04 transfers, lay-offs and rehiring and in these matters, the following factors 19.05 shall govern: (a) The length of continuous service with the Company (b) Ability, knowledge, dependability, training, skill and efficiency of the employee to do the work (c) When rehiring, the Company shall make a reasonable effort to contact an employee at his last known address or telephone number.\\nThe Company shall have the option to pass over any employee who does not respond within two (2) days.\\nWhere, in the sole judgment of the Company, factor (b) is to all intents and purposes equal as between two or more employees, seniority shall govern.\\nAn employee shall lose all seniority if he: (a) voluntarily quits (b) is justifiably discharged (c) is not employed by the Company for a period of four months prior to rehire d) refuses to return to work when requested An employee is considered a probationary employee for the first forty-five (45) days of his employment and shall not have seniority rights under this agreement and may be discharged by the Company at its discretion during that period.\\nNotwithstanding the above, if the Company does discharge an employee during this probationary period, the employee may, if he desires, be represented by the Union in presenting his case to the Company.\\nIf the Company confirms the discharge of the probationary employee, it shall not be a matter for grievance under this Agreement.\\nIf the Company sees fit to continue the employment of a probationary employee after the end of forty-five (45) days of continuous service, his name shall be placed on the seniority list as of the beginning of such forty- five (45) days continuous service.\\nThe Company expressly reserves the right to employ technically trained workers and students in reasonable numbers from time to time and to transfer and promote them as the Company may see fit, providing that no employee shall be laid off or discharged to make place for a student, or in the case of employees already laid off, refuse rehire.'},\n",
       " {'metadata': '0024913a-8',\n",
       "  'pdf_url': 'http://negotech.labour.gc.ca/eng/agreements/00/0024913a.pdf',\n",
       "  'raw_passage': 'Page 7\\nWhen making his decision, the Arbitrator shall state whether the decision is retroactive and effective date thereof, but the decision shall not be made retroactive to a time prior to the date of this agreement and there shall be no award of costs of arbitration to either party.\\nSaturdays, Sundays, and Statutory Holidays shall not be counted in determining the time within which any action is to be taken in each stage of the grievance procedure.\\n9.06 Stewards (a) Stewards chosen by the Union must be employees of the Company.\\nThe duties of the stewards shall be to receive, investigate and endeavour to settle grievances as outlined in this Article.\\n(b) There shall be a grievance committee consisting of not more than five (5) stewards.\\nc) The Union agrees to notify the Company in writing of the names of the stewards and the names of the Grievance Committee, and of any changes which may be made from time to time.\\nThe Company shall not be required to recognize the stewards of the grievance committee until it has been notified in writing by the Union, the names of the persons selected.\\n(d) Authorized time spent in investigating and settling disputes by employees delegated by stewards shall be considered as time worked and payment shall be on the basis of straight time, under no conditions shall overtime be paid.\\nThe time to be paid for shall be limited to five (5) hours per month.\\nARTICLE 10 - GROUP INSURANCE PLAN\\nThe Company shall provide Group Insurance coverage to employees in 10.02 accordance with the plan or plans in effect during the length of this agreement.\\nThe cost of the employee’s group insurance plan and benefits shall be paid 100% by the Company.\\nAll Employees shall receive a Group Benefits Plan Booklet upon hire or by request.\\nThe Union shall receive a Group Benefits Plan Booklet annually (June 1st) or upon amendment to the plan(s).\\nThe Company has the option to modify the Group Benefits Plan from time-to-time to maintain continuity between all branches of Foraco Canada Ltd.'},\n",
       " {'metadata': '0024913a-11',\n",
       "  'pdf_url': 'http://negotech.labour.gc.ca/eng/agreements/00/0024913a.pdf',\n",
       "  'raw_passage': 'ARTICLE 15 - Page 10\\nUNION SECURITY\\n15.03 The Company shall, during the term of the agreement, honor a written 15.04 request by an employee for the deduction and remittance of dues, fees and assessments (excluding fines), payable to the Union if the order is substantially in the form set out in Schedule “A” hereto and is signed by the employee.\\nThe Company shall remit to the Union monthly, the sums so deducted together with a written statement showing the names of the employees from who the deductions were made and the amount of each deduction.\\nThe Company shall not be obliged to deduct and remit the said sums, unless it has on hand wages which would otherwise be paid to the employee.\\nAs a condition of employment, the Company shall deduct from all present and future employees union dues as set by the United Steelworkers and communicated to the Company in the form set out in Schedule “A” hereto.\\nARTICLE 16 - UNION MEMBERSHIP\\n16.01 All present employees working in the Northwest Territory (NT) and all employees hired after the effective date of this agreement, or thirty (30) days after their hire, whichever is later, shall be required, as a condition of employment, to become and remain members of the Union for the duration of the project employment.\\nARTICLE 17 - NORTHERN LIVING ALLOWANCE\\n17.01 For an employee who maintains a permanent residence in the Yellowknife area (ie. within a 40 km radius of Yellowknife), the following allowance will be paid: Effective the date of signing this Agreement, the Northern Living Allowance (NLA) will be: $50.00 per shift worked for married employees $50.00 per shift worked for single employees The Northern Living Allowance shall not be payable where the Company or others are providing board and accommodation.'},\n",
       " {'metadata': '0024913a-15',\n",
       "  'pdf_url': 'http://negotech.labour.gc.ca/eng/agreements/00/0024913a.pdf',\n",
       "  'raw_passage': 'SCHEDULE “A” - TERMINATION\\nFor the purposes of clarity, the following table shall be the formula for determining reimbursement under Article 18: Transportation Accommodation Travel and Meals Time An employee on the job for 21 days IN OUT IN OUT IN OUT and project is not complete yes no yes no yes no An employee on the job until project yes yes yes yes yes yes completion (if less than 21 days) an employee on the job who quits without notice or is discharged for cause no no no no no no an employee on the job between 22 and yes yes yes yes yes yes 42 days or project completion an employee on the job between 22 and 42 yes yes yes yes yes no days, and who gives notice of intention to quit and who: a) works until a replacement arrives or b) works seven (7) additional shifts after giving notice whichever occurs sooner'}]"
      ]
     },
     "execution_count": 26,
     "metadata": {},
     "output_type": "execute_result"
    }
   ],
   "source": [
    "answers"
   ]
  },
  {
   "cell_type": "code",
   "execution_count": null,
   "metadata": {},
   "outputs": [],
   "source": []
  }
 ],
 "metadata": {
  "kernelspec": {
   "display_name": "Python 3",
   "language": "python",
   "name": "python3"
  },
  "language_info": {
   "codemirror_mode": {
    "name": "ipython",
    "version": 3
   },
   "file_extension": ".py",
   "mimetype": "text/x-python",
   "name": "python",
   "nbconvert_exporter": "python",
   "pygments_lexer": "ipython3",
   "version": "3.6.3"
  },
  "toc": {
   "colors": {
    "hover_highlight": "#DAA520",
    "navigate_num": "#000000",
    "navigate_text": "#333333",
    "running_highlight": "#FF0000",
    "selected_highlight": "#FFD700",
    "sidebar_border": "#EEEEEE",
    "wrapper_background": "#FFFFFF"
   },
   "moveMenuLeft": true,
   "nav_menu": {
    "height": "3px",
    "width": "254px"
   },
   "navigate_menu": true,
   "number_sections": true,
   "sideBar": true,
   "threshold": 4,
   "toc_cell": false,
   "toc_section_display": "block",
   "toc_window_display": false,
   "widenNotebook": false
  }
 },
 "nbformat": 4,
 "nbformat_minor": 2
}
